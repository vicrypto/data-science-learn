{
 "cells": [
  {
   "cell_type": "markdown",
   "metadata": {},
   "source": [
    "### Linenear Regression\n",
    "$ {a} = \\frac{(\\sum y)(\\sum x^2) - (\\sum x)(\\sum xy)}{n (\\sum x^2) - (\\sum x)^2} $\n",
    "\n",
    "$ {b} = \\frac{n(\\sum xy) - (\\sum x)(\\sum y)}{n (\\sum x^2) - (\\sum x)^2} $\n",
    "\n",
    "### Dicision Tree\n",
    "* Entropy using the frequency table of one attribute\n",
    "\n",
    "$ E(S) = \\sum_{i=1}^c - p_ilog_2p_i $\n",
    "\n",
    "* Entropy using the frequency table of two attribute\n",
    "\n",
    "$ E(T, X) = \\sum_{c \\in_X}P(c)E(c) $\n",
    "\n",
    "* Gain\n",
    "\n",
    "$ Gain(T, X) = Entropy(T) - Entropy(E, X) $"
   ]
  },
  {
   "cell_type": "code",
   "execution_count": null,
   "metadata": {},
   "outputs": [],
   "source": []
  }
 ],
 "metadata": {
  "kernelspec": {
   "display_name": "Python 3",
   "language": "python",
   "name": "python3"
  },
  "language_info": {
   "codemirror_mode": {
    "name": "ipython",
    "version": 3
   },
   "file_extension": ".py",
   "mimetype": "text/x-python",
   "name": "python",
   "nbconvert_exporter": "python",
   "pygments_lexer": "ipython3",
   "version": "3.7.6"
  }
 },
 "nbformat": 4,
 "nbformat_minor": 4
}
