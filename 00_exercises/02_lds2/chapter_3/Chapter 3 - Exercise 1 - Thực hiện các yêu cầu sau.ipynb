{
 "cells": [
  {
   "cell_type": "markdown",
   "metadata": {},
   "source": [
    "# Chapter 3 - exercise 1: Hãy thực hiện các yêu cầu sau:\n",
    "\n",
    "1. Tạo numpy array có giá trị từ 0 - 9, in array, type, shape\n",
    "2. Từ numpy array ở câu 1 => tạo arr_odd và arr_even => in 2 array mới này\n",
    "3. Từ numpy array ở câu 1 => tạo arr_update_1 với các phần tử chẵn giữ nguyên, các phần tử lẻ thay bằng 100 => in kết quả\n",
    "4. Từ 2 array => tạo arr mới chỉ chứa các phần tử xuất hiện ở cả 2 array, lấy duy nhất, dùng np.intersect1d(a,b)\n",
    "5. Từ 2 array a và b ở câu trên => Tạo array mới chỉ chứa các phần tử chỉ xuất hiện ở array a, dùng np.setdiff1d(a,b)\n",
    "6. Cho array e, tạo array f chỉ chứa các phần tử có giá trị từ 5 đến 10 của e\n",
    "7. Tạo array có 10 phần tử 0, cập nhật phần tử ở vị trí thứ 5 là 1\n",
    "8. Tạo array có giá trị từ 10 đến 24\n",
    "9. Cho array k => tạo array l từ k với các phần tử đếu khác 0\n",
    "10. Từ array của câu trên, thêm 2 phần tử có giá trị là 10, 20 vào cuối array\n",
    "11. Từ array của câu trên, thêm phần tử có giá trị 100 vào index = 5\n",
    "12. Từ array của câu trên, xóa phần tử index = 0, 1, 2"
   ]
  },
  {
   "cell_type": "code",
   "execution_count": 29,
   "metadata": {},
   "outputs": [
    {
     "name": "stdout",
     "output_type": "stream",
     "text": [
      "[0 1 2 3 4 5 6 7 8 9]\n",
      "<class 'numpy.ndarray'>\n",
      "(10,)\n"
     ]
    }
   ],
   "source": [
    "# 1. Tạo numpy array có giá trị từ 0 - 9, in array, type, shape\n",
    "import numpy as np\n",
    "\n",
    "arr = np.arange(10)\n",
    "\n",
    "print(arr)\n",
    "print(type(arr))\n",
    "print(arr.shape)"
   ]
  },
  {
   "cell_type": "code",
   "execution_count": 30,
   "metadata": {},
   "outputs": [
    {
     "name": "stdout",
     "output_type": "stream",
     "text": [
      "Array số lẻ:\n",
      "[1 3 5 7 9]\n",
      "Array số chẵn:\n",
      "[0 2 4 6 8]\n"
     ]
    }
   ],
   "source": [
    "# 2. Từ numpy array ở câu 1 => tạo arr_odd và arr_even => in 2 array mới này\n",
    "arr_odd = arr[arr%2 != 0]\n",
    "print('Array số lẻ:')\n",
    "print(arr_odd)\n",
    "\n",
    "arr_even = arr[arr%2 == 0]\n",
    "print('Array số chẵn:')\n",
    "print(arr_even)"
   ]
  },
  {
   "cell_type": "code",
   "execution_count": 31,
   "metadata": {},
   "outputs": [
    {
     "name": "stdout",
     "output_type": "stream",
     "text": [
      "[0 1 2 3 4 5 6 7 8 9]\n",
      "[  0 100   2 100   4 100   6 100   8 100]\n"
     ]
    }
   ],
   "source": [
    "# 3. Từ numpy array ở câu 1 => tạo arr_update_1 với các phần tử chẵn giữ nguyên, các phần tử lẻ thay bằng 100 => in kết quả\n",
    "arr_update_1 = arr.copy()\n",
    "print(arr_update_1)\n",
    "arr_update_1[arr_update_1%2 != 0] = 100\n",
    "print(arr_update_1)"
   ]
  },
  {
   "cell_type": "code",
   "execution_count": 32,
   "metadata": {},
   "outputs": [
    {
     "name": "stdout",
     "output_type": "stream",
     "text": [
      "[ 1  3  5  7  9 10] [ 1  2  4  6  8 10]\n",
      "[ 1 10]\n"
     ]
    }
   ],
   "source": [
    "# 4. Từ 2 array => tạo arr mới chỉ chứa các phần tử xuất hiện ở cả 2 array, lấy duy nhất, dùng np.intersect1d(a,b)\n",
    "a = np.array([1, 3, 5, 7, 9, 10])\n",
    "b = np.array([1, 2, 4, 6, 8, 10])\n",
    "print(a, b)\n",
    "arr_intersect = np.intersect1d(a, b)\n",
    "print(arr_intersect)"
   ]
  },
  {
   "cell_type": "code",
   "execution_count": 33,
   "metadata": {},
   "outputs": [
    {
     "name": "stdout",
     "output_type": "stream",
     "text": [
      "[ 1  3  5  7  9 10] [ 1  2  4  6  8 10]\n",
      "[3 5 7 9]\n"
     ]
    }
   ],
   "source": [
    "# 5. Từ 2 array a và b ở câu trên => Tạo array mới chỉ chứa các phần tử chỉ xuất hiện ở array a, dùng np.setdiff1d(a,b)\n",
    "arr_setdiff = np.setdiff1d(a, b)\n",
    "print(a, b)\n",
    "print(arr_setdiff)"
   ]
  },
  {
   "cell_type": "code",
   "execution_count": 34,
   "metadata": {},
   "outputs": [
    {
     "name": "stdout",
     "output_type": "stream",
     "text": [
      "[ 1  3  5  7  9 10 11 13]\n",
      "[ 5  7  9 10]\n"
     ]
    }
   ],
   "source": [
    "# 6. Cho array e, tạo array f chỉ chứa các phần tử có giá trị từ 5 đến 10 của e\n",
    "e = np.array([1, 3, 5, 7, 9, 10, 11, 13])\n",
    "print(e)\n",
    "f = e[(e>=5) & (e<=10)]\n",
    "print(f)"
   ]
  },
  {
   "cell_type": "code",
   "execution_count": 35,
   "metadata": {},
   "outputs": [
    {
     "name": "stdout",
     "output_type": "stream",
     "text": [
      "[0. 0. 0. 0. 0. 0. 0. 0. 0. 0.]\n",
      "[0. 0. 0. 0. 1. 0. 0. 0. 0. 0.]\n"
     ]
    }
   ],
   "source": [
    "# 7. Tạo array có 10 phần tử 0, cập nhật phần tử ở vị trí thứ 5 là 1\n",
    "g = np.zeros(10)\n",
    "print(g)\n",
    "g[4] = 1\n",
    "print(g)"
   ]
  },
  {
   "cell_type": "code",
   "execution_count": 36,
   "metadata": {},
   "outputs": [
    {
     "name": "stdout",
     "output_type": "stream",
     "text": [
      "[10 11 12 13 14 15 16 17 18 19 20 21 22 23 24]\n",
      "[24 23 22 21 20 19 18 17 16 15 14 13 12 11 10]\n"
     ]
    }
   ],
   "source": [
    "# 8. Tạo array có giá trị từ 10 đến 24\n",
    "h = np.arange(10, 25)\n",
    "print(h)\n",
    "\n",
    "# Đảo ngược array [::-1]\n",
    "h = h[::-1]\n",
    "print(h)"
   ]
  },
  {
   "cell_type": "code",
   "execution_count": 37,
   "metadata": {},
   "outputs": [
    {
     "name": "stdout",
     "output_type": "stream",
     "text": [
      "[1 2 0 8 2 0 1 3 0 5 0]\n",
      "[1 2 8 2 1 3 5]\n"
     ]
    }
   ],
   "source": [
    "# 9. Cho array k => tạo array l từ k với các phần tử đều khác 0\n",
    "k = np.array([1, 2, 0, 8, 2, 0, 1, 3, 0, 5, 0])\n",
    "print(k)\n",
    "l = k[k != 0] # Cách 2: l = k[k.nonzero()]\n",
    "print(l)"
   ]
  },
  {
   "cell_type": "code",
   "execution_count": 38,
   "metadata": {},
   "outputs": [
    {
     "name": "stdout",
     "output_type": "stream",
     "text": [
      "[1 2 8 2 1 3 5]\n",
      "[ 1  2  8  2  1  3  5 10]\n",
      "[ 1  2  8  2  1  3  5 10 20]\n"
     ]
    }
   ],
   "source": [
    "# 10. Từ array của câu trên, thêm 2 phần tử có giá trị là 10, 20 vào cuối array\n",
    "print(l)\n",
    "l = np.append(l, [10])\n",
    "print(l)\n",
    "l = np.append(l, [20])\n",
    "print(l)\n",
    "\n",
    "# Cách 2: l = np.append(l, [10, 20])"
   ]
  },
  {
   "cell_type": "code",
   "execution_count": 39,
   "metadata": {},
   "outputs": [
    {
     "name": "stdout",
     "output_type": "stream",
     "text": [
      "[ 1  2  8  2  1  3  5 10 20]\n",
      "[  1   2   8   2   1 100   3   5  10  20]\n"
     ]
    }
   ],
   "source": [
    "# 11. Từ array của câu trên, thêm phần tử có giá trị 100 vào index = 5\n",
    "print(l)\n",
    "l = np.insert(l, 5, 100)\n",
    "print(l)"
   ]
  },
  {
   "cell_type": "code",
   "execution_count": 40,
   "metadata": {},
   "outputs": [
    {
     "name": "stdout",
     "output_type": "stream",
     "text": [
      "[  1   2   8   2   1 100   3   5  10  20]\n",
      "[  2   8   2   1 100   3   5  10  20]\n",
      "[  8   2   1 100   3   5  10  20]\n",
      "[  2   1 100   3   5  10  20]\n"
     ]
    }
   ],
   "source": [
    "# 12. Từ array của câu trên, xóa phần tử index = 0, 1, 2\n",
    "print(l)\n",
    "l = np.delete(l, 0)\n",
    "print(l)\n",
    "l = np.delete(l, 0)\n",
    "print(l)\n",
    "l = np.delete(l, 0)\n",
    "print(l)\n",
    "\n",
    "# Cách 2: l = np.delete(l, [0, 1, 2])"
   ]
  }
 ],
 "metadata": {
  "kernelspec": {
   "display_name": "Python 3",
   "language": "python",
   "name": "python3"
  },
  "language_info": {
   "codemirror_mode": {
    "name": "ipython",
    "version": 3
   },
   "file_extension": ".py",
   "mimetype": "text/x-python",
   "name": "python",
   "nbconvert_exporter": "python",
   "pygments_lexer": "ipython3",
   "version": "3.7.6"
  }
 },
 "nbformat": 4,
 "nbformat_minor": 4
}
