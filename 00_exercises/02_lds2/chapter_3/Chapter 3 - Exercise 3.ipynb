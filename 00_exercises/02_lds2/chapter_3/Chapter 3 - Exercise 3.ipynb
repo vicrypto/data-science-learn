{
 "cells": [
  {
   "cell_type": "markdown",
   "metadata": {},
   "source": [
    "# Chapter 3 - Exercise 3\n",
    "\n",
    "1. Tạo array 3x3 với tất cả các giá trị đều là True. In array\n",
    "2. Cho array 1D có 9 phần tử 0-8 => chuyển thành array 2D (3x3) => In array. Chuyển cột 1 sang\n",
    "cột 3 và ngược lại. => In array\n",
    "3. Sử dụng array 2D của câu trên, chuyển dòng 1 sang dòng 2 và ngược lại => In array\n",
    "4. Sử dụng array 2D của câu trên, Đảo ngược các dòng của array 2D => In array\n",
    "5. Sử dụng array 2D của câu trên, Đảo ngược các cột của array 2D = > In array\n",
    "6. Cho h = np.array([[1, 2, 3], [np.NaN, 5, 6], [7, np.NaN, 9], [4, 5, 6]]), kiểm tra xem trong array có\n",
    "giá trị rỗng nào không?\n",
    "7. Sử dụng array 2D của câu trên, thay thế giá trị null bằng 0"
   ]
  },
  {
   "cell_type": "code",
   "execution_count": 1,
   "metadata": {},
   "outputs": [],
   "source": [
    "import numpy as np"
   ]
  },
  {
   "cell_type": "code",
   "execution_count": 3,
   "metadata": {},
   "outputs": [
    {
     "name": "stdout",
     "output_type": "stream",
     "text": [
      "[[ True  True  True]\n",
      " [ True  True  True]\n",
      " [ True  True  True]]\n"
     ]
    }
   ],
   "source": [
    "# 1. Tạo array 3x3 với tất cả các giá trị đều là True. In array\n",
    "a = np.ones((3,3), dtype=bool)\n",
    "print(a)"
   ]
  },
  {
   "cell_type": "code",
   "execution_count": 7,
   "metadata": {},
   "outputs": [
    {
     "name": "stdout",
     "output_type": "stream",
     "text": [
      "[0 1 2 3 4 5 6 7 8]\n",
      "[[0 1 2]\n",
      " [3 4 5]\n",
      " [6 7 8]]\n",
      "[[2 1 0]\n",
      " [5 4 3]\n",
      " [8 7 6]]\n"
     ]
    }
   ],
   "source": [
    "# 2. Cho array 1D có 9 phần tử 0-8 => chuyển thành array 2D (3x3) => In array. Chuyển cột 1 sang cột 3 và ngược lại. => In array\n",
    "array_1d = np.arange(9)\n",
    "print(array_1d)\n",
    "array_2d = np.reshape(array_1d, (3,3))\n",
    "print(array_2d)\n",
    "\n",
    "c = array_2d[:, [2,1,0]]\n",
    "print(c)"
   ]
  },
  {
   "cell_type": "code",
   "execution_count": 9,
   "metadata": {},
   "outputs": [
    {
     "name": "stdout",
     "output_type": "stream",
     "text": [
      "[[0 1 2]\n",
      " [3 4 5]\n",
      " [6 7 8]]\n",
      "[[3 4 5]\n",
      " [0 1 2]\n",
      " [6 7 8]]\n"
     ]
    }
   ],
   "source": [
    "# 3. Sử dụng array 2D của câu trên, chuyển dòng 1 sang dòng 2 và ngược lại => In array\n",
    "print(array_2d)\n",
    "d = array_2d[[1,0,2], :]\n",
    "print(d)"
   ]
  },
  {
   "cell_type": "code",
   "execution_count": 11,
   "metadata": {},
   "outputs": [
    {
     "name": "stdout",
     "output_type": "stream",
     "text": [
      "[[0 1 2]\n",
      " [3 4 5]\n",
      " [6 7 8]]\n",
      "[[2 1 0]\n",
      " [5 4 3]\n",
      " [8 7 6]]\n"
     ]
    }
   ],
   "source": [
    "# 4. Sử dụng array 2D của câu trên, Đảo ngược các dòng của array 2D => In array\n",
    "print(array_2d)\n",
    "e = array_2d[:, ::-1]\n",
    "print(e)"
   ]
  },
  {
   "cell_type": "code",
   "execution_count": 12,
   "metadata": {},
   "outputs": [
    {
     "name": "stdout",
     "output_type": "stream",
     "text": [
      "[[0 1 2]\n",
      " [3 4 5]\n",
      " [6 7 8]]\n",
      "[[6 7 8]\n",
      " [3 4 5]\n",
      " [0 1 2]]\n"
     ]
    }
   ],
   "source": [
    "# 5. Sử dụng array 2D của câu trên, Đảo ngược các cột của array 2D = > In array\n",
    "print(array_2d)\n",
    "f = array_2d[::-1, :]\n",
    "print(f)"
   ]
  },
  {
   "cell_type": "code",
   "execution_count": 13,
   "metadata": {},
   "outputs": [
    {
     "name": "stdout",
     "output_type": "stream",
     "text": [
      "[[ 1.  2.  3.]\n",
      " [nan  5.  6.]\n",
      " [ 7. nan  9.]\n",
      " [ 4.  5.  6.]]\n",
      "Have nan? :  True\n"
     ]
    }
   ],
   "source": [
    "# 6. Cho h = np.array([[1, 2, 3], [np.NaN, 5, 6], [7, np.NaN, 9], [4, 5, 6]]), kiểm tra xem trong array có giá trị rỗng nào không?\n",
    "h = np.array([[1, 2, 3], [np.NaN, 5, 6], [7, np.NaN, 9], [4, 5, 6]])\n",
    "print(h)\n",
    "print(\"Have nan? : \", np.isnan(h).any())"
   ]
  },
  {
   "cell_type": "code",
   "execution_count": 15,
   "metadata": {},
   "outputs": [
    {
     "name": "stdout",
     "output_type": "stream",
     "text": [
      "[[ 1.  2.  3.]\n",
      " [nan  5.  6.]\n",
      " [ 7. nan  9.]\n",
      " [ 4.  5.  6.]]\n",
      "[[1. 2. 3.]\n",
      " [0. 5. 6.]\n",
      " [7. 0. 9.]\n",
      " [4. 5. 6.]]\n"
     ]
    }
   ],
   "source": [
    "# 7. Sử dụng array 2D của câu trên, thay thế giá trị null bằng 0\n",
    "print(h)\n",
    "h[np.isnan(h)] = 0\n",
    "print(h)"
   ]
  }
 ],
 "metadata": {
  "kernelspec": {
   "display_name": "Python 3",
   "language": "python",
   "name": "python3"
  },
  "language_info": {
   "codemirror_mode": {
    "name": "ipython",
    "version": 3
   },
   "file_extension": ".py",
   "mimetype": "text/x-python",
   "name": "python",
   "nbconvert_exporter": "python",
   "pygments_lexer": "ipython3",
   "version": "3.7.6"
  }
 },
 "nbformat": 4,
 "nbformat_minor": 4
}
